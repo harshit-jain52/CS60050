{
  "cells": [
    {
      "cell_type": "markdown",
      "metadata": {
        "id": "emjAQ_34SozP",
        "tags": []
      },
      "source": [
        "# Programming Assignment 1\n"
      ]
    },
    {
      "cell_type": "markdown",
      "metadata": {
        "id": "tKkKCHwsSozQ"
      },
      "source": [
        "In this programming assignment, you will implement a linear regression model and a logistic regression model.\n",
        "\n",
        "In Part 1, you have to implement a linear regression model to predict the price of a house based on various input features.\n",
        "\n",
        "In Part 2, you have to implement a logistic regression model to predict the species of a grain using various morphological features.\n",
        "\n",
        "The assignment zip file (ML_Assignment_1.zip) contains 4 datasets which will be used in this assignment.\n",
        "\n",
        "You have to write your code in this jupyter notebook and submit the solved jupyter notebook with the file name \\<Roll_No\\>\\_A1.ipynb for evaluation. You have to enter your code only in those cells which are marked as `## CODE REQUIRED ##`, and you have to write your code only between `### START CODE HERE ###` and `### END CODE HERE ###` comments.\n"
      ]
    },
    {
      "cell_type": "markdown",
      "metadata": {
        "id": "jHPf8pHpSozR"
      },
      "source": [
        "## Part 1: Linear Regression\n",
        "\n",
        "### Problem Statement\n",
        "\n",
        "A real estate company is building a machine learning model to determine the price of a house. The model will take various information regarding a house as input features and predict the price per unit area. They decided to use the linear regression as the machine learning model. Your task is to help the company to build the model.\n",
        "Given various features of a house, you will create a linear regression model to predict the price of the house.\n",
        "\n",
        "### Data Description\n",
        "\n",
        "**For Even Roll Number Students:**\n",
        "\n",
        "Dataset Filename: Taiwan_House.csv\n",
        "\n",
        "Attributes Information:\n",
        "\n",
        "1. Transaction date\n",
        "2. House age\n",
        "3. Distance to the nearest MRT station\n",
        "4. Number of convenience stores\n",
        "5. Latitude\n",
        "6. Longitude\n",
        "\n",
        "Target variable: house price of unit area\n",
        "\n",
        "**For Odd Roll Number Students:**\n",
        "\n",
        "Dataset Filename: Boston_House.csv\n",
        "\n",
        "Attributes Information:\n",
        "\n",
        "1. CRIM: per capita crime rate by town\n",
        "2. ZN: proportion of residential land zoned for lots over 25,000 sq.ft.\n",
        "3. INDUS: proportion of non-­retail business acres per town\n",
        "4. CHAS: Charles River dummy variable (= 1 if tract bounds river; 0 otherwise)\n",
        "5. NOX: nitric oxides concentration (parts per 10 million)\n",
        "6. RM: average number of rooms per dwelling\n",
        "7. AGE: proportion of owner­occupied units built prior to 1940\n",
        "8. DIS: weighted distances to five Boston employment centres\n",
        "9. RAD: index of accessibility to radial highways\n",
        "10. TAX: full-­value property-­tax rate per $10,000\n",
        "\n",
        "11. PTRATIO: pupil-­teacher ratio by town\n",
        "12. B: 1000(Bk ­- 0.63)^2 where Bk is the proportion of blacks by town\n",
        "13. LSTAT: % lower status of the population\n",
        "\n",
        "Target Variable: MEDV: Median value of owner-­occupied homes in $1000's\n",
        "\n",
        "These are the following steps or functions that you have to complete to create and train the linear regression model:\n",
        "\n",
        "1. Reading the data\n",
        "2. Computing the loss function\n",
        "3. Computing the gradient of the loss\n",
        "4. Training the model using Batch Gradient Descent\n"
      ]
    },
    {
      "cell_type": "code",
      "execution_count": 1,
      "metadata": {
        "id": "rJDNL8y8SozR",
        "tags": []
      },
      "outputs": [],
      "source": [
        "import numpy as np\n",
        "import pandas as pd\n",
        "import matplotlib.pyplot as plt\n",
        "import copy\n",
        "import math\n",
        "import random"
      ]
    },
    {
      "cell_type": "markdown",
      "metadata": {
        "id": "S5ExYIXiSozS"
      },
      "source": [
        "### 1.1. Reading the data\n"
      ]
    },
    {
      "cell_type": "markdown",
      "metadata": {
        "id": "FgnxuEDkSozS"
      },
      "source": [
        "In the following function `load_data`, you have to read the data from the file and store the data into a pandas dataframe. Then you have to create two numpy arrays $X$ and $y$ from the dataframe:\n",
        "\n",
        "- $X$: Input data of the shape (number of samples, number of input features)\n",
        "- $y$: Target variable of the shape (number of samples,)\n"
      ]
    },
    {
      "cell_type": "code",
      "execution_count": 2,
      "metadata": {
        "id": "DEal5SFmSozS",
        "tags": []
      },
      "outputs": [
        {
          "name": "stdout",
          "output_type": "stream",
          "text": [
            "Shape of X:  (414, 6) Shape of y:  (414,)\n"
          ]
        }
      ],
      "source": [
        "## CODE REQUIRED ##\n",
        "\n",
        "\n",
        "def load_data(filepath):\n",
        "    \"\"\"\n",
        "    This function loads the data into a pandas dataframe and coverts it into X and y numpy arrays\n",
        "\n",
        "    Args:\n",
        "        filepath: File path as a string\n",
        "    Returns:\n",
        "        X: Input data of the shape (# of samples, # of input features)\n",
        "        y: Target variable of the shape (# of sample,)\n",
        "    \"\"\"\n",
        "\n",
        "    ### START CODE HERE ###\n",
        "\n",
        "    # Load the data into a pandas dataframe\n",
        "    data = pd.read_csv(filepath)\n",
        "    # Convert the data into numpy arrays\n",
        "    X = np.array(data.iloc[:, :-1])\n",
        "    y = np.array(data.iloc[:, -1])\n",
        "\n",
        "    ### END CODE HERE ###\n",
        "\n",
        "    return X, y\n",
        "\n",
        "\n",
        "filepath = None\n",
        "### START CODE HERE ###\n",
        "## set the file path\n",
        "filepath = \"./Taiwan_House.csv\"\n",
        "### END CODE HERE ###\n",
        "X, y = load_data(filepath)\n",
        "\n",
        "print(\"Shape of X: \", X.shape, \"Shape of y: \", y.shape)"
      ]
    },
    {
      "cell_type": "markdown",
      "metadata": {
        "id": "se3Qrch5PoIO"
      },
      "source": [
        "We will not use all the features from `X`.\n",
        "\n",
        "**For Even Roll Number Students:**\n",
        "Set the last two digits of your roll number as the random seed and pick a number `r` between 3 and 6 (both inclusive) randomly. Use the first `r` features of the numpy array `X`.\n",
        "\n",
        "**For Odd Roll Number Students:**\n",
        "Set the last two digits of your roll number as the random seed and pick a number `r` between 9 and 13 (both inclusive) randomly. Use the first `r` features of the numpy array `X`.\n"
      ]
    },
    {
      "cell_type": "code",
      "execution_count": 3,
      "metadata": {
        "id": "mnRd0p8LtRJ5"
      },
      "outputs": [
        {
          "name": "stdout",
          "output_type": "stream",
          "text": [
            "Shape of X:  (414, 5) Shape of y:  (414,)\n"
          ]
        }
      ],
      "source": [
        "## CODE REQUIRED ##\n",
        "\n",
        "\n",
        "def random_feature_selection(X):\n",
        "    \"\"\"\n",
        "    For Even Roll Number Students: Set the last two digits of your roll number as the random seed and pick a number r\n",
        "    between 3 and 6 randomly. Use the first ```r``` features of the numpy array X.\n",
        "    For Odd Roll Number Students: Set the last two digits of your roll number as the random seed and pick a number r\n",
        "    between 9 and 13 randomly. Use the first ```r``` features of the numpy array X.\n",
        "    Args:\n",
        "        X: Input data of the shape (# of samples, # of input features)\n",
        "    Returns:\n",
        "        X_new: New input data of the shape (# of samples, r) containg only the first r features from X\n",
        "    \"\"\"\n",
        "\n",
        "    X_new = None\n",
        "\n",
        "    ### START CODE HERE ###\n",
        "\n",
        "    random.seed(30)\n",
        "    r = random.randint(3, 6)\n",
        "    X_new = X[:, :r]\n",
        "\n",
        "    ### END CODE HERE ###\n",
        "\n",
        "    return X_new\n",
        "\n",
        "\n",
        "X = random_feature_selection(X)\n",
        "print(\"Shape of X: \", X.shape, \"Shape of y: \", y.shape)"
      ]
    },
    {
      "cell_type": "markdown",
      "metadata": {
        "id": "4FAc8UixtqLS"
      },
      "source": [
        "We need to pre-process the data. We are using min-max scaler to scale the input data ($X$).\n",
        "\n",
        "After that, we split the data (`X` and `y`) into a training dataset (`X_train` and `y_train`) and test dataset (`X_test` and `y_test`).\n"
      ]
    },
    {
      "cell_type": "code",
      "execution_count": 4,
      "metadata": {
        "id": "LLmD1I3-SozT",
        "tags": []
      },
      "outputs": [
        {
          "name": "stdout",
          "output_type": "stream",
          "text": [
            "Shape of X_train:  (310, 5) Shape of y_train:  (310,)\n",
            "Shape of X_test:  (104, 5) Shape of y_test:  (104,)\n"
          ]
        }
      ],
      "source": [
        "## Data scaling and train-test split\n",
        "\n",
        "\n",
        "def train_test_split(X, y, test_size=0.25, random_state=None):\n",
        "    if random_state is not None:\n",
        "        np.random.seed(random_state)\n",
        "    indices = np.arange(X.shape[0])\n",
        "    np.random.shuffle(indices)\n",
        "\n",
        "    split_index = int(X.shape[0] * (1 - test_size))\n",
        "\n",
        "    train_indices = indices[:split_index]\n",
        "    test_indices = indices[split_index:]\n",
        "\n",
        "    X_train = X[train_indices]\n",
        "    X_test = X[test_indices]\n",
        "    y_train = y[train_indices]\n",
        "    y_test = y[test_indices]\n",
        "\n",
        "    return X_train, X_test, y_train, y_test\n",
        "\n",
        "\n",
        "def min_max_scaler(X, feature_range=(0, 1)):\n",
        "    X_min = np.min(X, axis=0)\n",
        "    X_max = np.max(X, axis=0)\n",
        "\n",
        "    X_scaled = (X - X_min) / (X_max - X_min)\n",
        "\n",
        "    return X_scaled\n",
        "\n",
        "\n",
        "X = min_max_scaler(X)\n",
        "X_train, X_test, y_train, y_test = train_test_split(\n",
        "    X, y, test_size=0.25, random_state=42\n",
        ")\n",
        "print(\"Shape of X_train: \", X_train.shape, \"Shape of y_train: \", y_train.shape)\n",
        "print(\"Shape of X_test: \", X_test.shape, \"Shape of y_test: \", y_test.shape)"
      ]
    },
    {
      "cell_type": "markdown",
      "metadata": {
        "id": "xrFEUV2-SozU"
      },
      "source": [
        "### 1.2. Computing the Loss Function\n"
      ]
    },
    {
      "cell_type": "markdown",
      "metadata": {
        "id": "I1BC0TPCSozU"
      },
      "source": [
        "In linear regression, the model parameters are:\n",
        "\n",
        "- $w$: Parameters of the linear regression model (excluding the bias) of the shape (1, number of features)\n",
        "\n",
        "- $b$: Bias parameter (scalar) of the linear regression model\n",
        "\n",
        "Both $w$ and $b$ are numpy arrays.\n",
        "\n",
        "Given the model parameters $w$ and $b$, the prediction for an input sample $X^i$ is:\n",
        "$$h_{w,b}(X^i) = w \\cdot X^i + b$$\n",
        "where $X^i$ is the $i^{th}$ training sample with shape (number of features,1)\n",
        "\n",
        "For linear regression, you have to implement and compute Mean Squarred Error loss fucntion:\n",
        "$$ L*{w,b}(X) = \\sum*{i=1}^{m}(y^i - h*{w,b}(X^i))^2 $$\n",
        "where $y^i$ is the true target value for the $i^{th}$ sample and $h*{w,b}(X^i)$ is the predicted value for the $i^{th}$ sample using the parameters $w$ and $b$.\n",
        "\n",
        "$w$ is the list of parameters excluding the bias and $b$ is the bias term.\n"
      ]
    },
    {
      "cell_type": "code",
      "execution_count": 5,
      "metadata": {
        "id": "t6GqZMlYSozV",
        "tags": []
      },
      "outputs": [],
      "source": [
        "## CODE REQUIRED ##\n",
        "\n",
        "\n",
        "def loss_function(X, y, w, b):\n",
        "    \"\"\"\n",
        "    Computes the cost function for linear regression.\n",
        "\n",
        "    Args:\n",
        "        X: Input data of the shape (# of training samples, # of input features)\n",
        "        y: Target variable of the shape (# of training sample,)\n",
        "        w: Parameters of the linear regression model (excluding the bias) of the shape (1, number of features)\n",
        "        b: Bias parameter (scalar) of the linear regression model\n",
        "\n",
        "    Returns\n",
        "        loss: The loss function value of using w and b as the parameters to fit the data points in X and y\n",
        "    \"\"\"\n",
        "    # number of training examples\n",
        "    m = X.shape[0]\n",
        "\n",
        "    ### START CODE HERE ###\n",
        "\n",
        "    hwb = np.dot(X, w.T) + b\n",
        "    hwb = hwb.flatten()\n",
        "    loss = np.sum((y - hwb) ** 2)\n",
        "\n",
        "    ### END CODE HERE ###\n",
        "\n",
        "    return loss"
      ]
    },
    {
      "cell_type": "markdown",
      "metadata": {
        "id": "l0h7jhxGSozV"
      },
      "source": [
        "### 1.3. Comptuing the Gradient of the Loss\n",
        "\n",
        "In this following function `compute_gradient`, you have to compute the gradients $\\frac{\\partial L}{\\partial w}$ and $\\frac{\\partial L}{\\partial b}$ of the loss $L$ w.r.t. $w$ and $b$. More specifically, you have to iterate over every training example and compute the gradients of the loss for that training example. Finally, aggregate the gradient values for all the training examples and take the average. The gradients can be computed as:\n",
        "$$\\frac{\\partial L}{\\partial w} = \\frac{1}{m} \\sum_{i=1}^m (h_{w,b}(X^i)-y^i)X^i$$\n",
        "\n",
        "$$\\frac{\\partial L}{\\partial b} = \\frac{1}{m} \\sum_{i=1}^{m} (h_{w,b}(X^i)-y^i)$$\n"
      ]
    },
    {
      "cell_type": "code",
      "execution_count": 6,
      "metadata": {
        "id": "do-IiCTZSozV",
        "tags": []
      },
      "outputs": [],
      "source": [
        "## CODE REQUIRED ##\n",
        "\n",
        "\n",
        "def compute_gradient(X, y, w, b):\n",
        "    \"\"\"\n",
        "    Computes the gradient values\n",
        "    Args:\n",
        "       X: Input data of the shape (# of training samples, # of input features)\n",
        "       y: Target variable of the shape (# of training sample,)\n",
        "       w: Parameters of the linear regression model (excluding the bias) of the shape (1, number of features)\n",
        "       b: Bias parameter of the linear regression model of the shape (1,1) or a scaler\n",
        "    Returns:\n",
        "       dL_dw : The gradient of the cost w.r.t. the parameters w with shape same as w\n",
        "       dL_db : The gradient of the cost w.r.t. the parameter b with shape same as b\n",
        "    \"\"\"\n",
        "\n",
        "    # Number of training examples\n",
        "    m = X.shape[0]\n",
        "\n",
        "    dL_dw = None\n",
        "    dL_db = None\n",
        "\n",
        "    ### START CODE HERE ###\n",
        "\n",
        "    hwb = np.dot(X, w.T) + b\n",
        "    hwb = hwb.flatten()\n",
        "    dL_dw = (np.dot(X.T, (hwb - y))).T / m\n",
        "    dL_db = np.sum((hwb - y)) / m\n",
        "\n",
        "    ### END CODE HERE ###\n",
        "    return dL_dw, dL_db"
      ]
    },
    {
      "cell_type": "markdown",
      "metadata": {
        "id": "uYL1jWaZSozV"
      },
      "source": [
        "### 1.4. Training the Model using Batch Gradient Descent\n"
      ]
    },
    {
      "cell_type": "markdown",
      "metadata": {
        "id": "2vwyRzWqSozV"
      },
      "source": [
        "Finally, you have to implement the batch gradient descent algorithm to train and learn the parameters of the linear regression model. You have to use `loss_function` and `compute_gradient` functions that you have implemented earlier in this assignment.\n",
        "\n",
        "In this `batch_gradient_descent` function, you have to compute the gradient for the training samples and update the parameters $w$ and $b$ in every iteration:\n",
        "\n",
        "- $w \\leftarrow w - \\alpha \\frac{\\partial L}{\\partial w}$\n",
        "\n",
        "- $b \\leftarrow b - \\alpha \\frac{\\partial L}{\\partial b}$\n",
        "\n",
        "Additionally, you have compute the loss function values in every iteration and store it in the list variable `loss_hist` and print the loss value after every 100 iterations during the training process.\n"
      ]
    },
    {
      "cell_type": "code",
      "execution_count": 7,
      "metadata": {
        "id": "UHKldb3hSozV",
        "tags": []
      },
      "outputs": [],
      "source": [
        "## CODE REQUIRED ##\n",
        "\n",
        "\n",
        "def batch_gradient_descent(X, y, w_initial, b_initial, alpha, num_iters):\n",
        "    \"\"\"\n",
        "    Batch gradient descent to learn the parameters (w and b) of the linear regression model and to print loss values\n",
        "    every 100 iterations\n",
        "\n",
        "    Args:\n",
        "        X: Input data of the shape (# of training samples, # of input features)\n",
        "        y: Target variable of the shape (# of training sample,)\n",
        "        w_initial: Initial parameters of the linear regression model (excluding the bias) of the shape (1, number of features)\n",
        "        b_initial: Initial bias parameter (scalar) of the linear regression model\n",
        "        alpha: Learning rate\n",
        "        num_iters: number of iterations\n",
        "    Returns\n",
        "        w: Updated values of parameters of the model after training\n",
        "        b: Updated bias of the model after training\n",
        "        loss_hist: List of loss values for every iteration\n",
        "    \"\"\"\n",
        "\n",
        "    # number of training examples\n",
        "    m = X.shape[0]\n",
        "\n",
        "    # to store loss values for every iteation as a list and print loss value after every 100 iterations\n",
        "    loss_hist = []\n",
        "\n",
        "    # Initialize parameters\n",
        "    w = copy.deepcopy(\n",
        "        w_initial\n",
        "    )  ## deepcopy is used so that the updates do not change the initial variable values\n",
        "    b = b_initial\n",
        "\n",
        "    ### START CODE HERE ###\n",
        "\n",
        "    for i in range(num_iters):\n",
        "        dL_dw, dL_db = compute_gradient(X, y, w, b)\n",
        "        w = w - alpha * dL_dw\n",
        "        b = b - alpha * dL_db\n",
        "        loss = loss_function(X, y, w, b)\n",
        "        loss_hist.append(loss)\n",
        "        if i % 100 == 0:\n",
        "            print(f\"Loss value at iteration {i}: {loss}\")\n",
        "\n",
        "    ### END CODE HERE ###\n",
        "\n",
        "    return w, b, loss_hist"
      ]
    },
    {
      "cell_type": "markdown",
      "metadata": {
        "id": "y0h3DUMwNocp"
      },
      "source": [
        "Now you have to intialize the model parameters ($w$ and $b$) and learning rate (`alpha`). The learning rate `alpha` has to be randomly initialized between 0.0001 and 0.001. For the learning rate, you have to first set the last two digits of your roll number as the random seed using `random.seed()` function.\n"
      ]
    },
    {
      "cell_type": "code",
      "execution_count": 8,
      "metadata": {
        "id": "Xd8QFReNDyGs"
      },
      "outputs": [],
      "source": [
        "## CODE REQUIRED ##\n",
        "\n",
        "## set the last two digits of your roll number as the random seed\n",
        "random_seed = None\n",
        "### START CODE HERE ###\n",
        "random_seed = 30\n",
        "### END CODE HERE ###\n",
        "np.random.seed(random_seed)\n",
        "\n",
        "\n",
        "def initialize_parameters():\n",
        "    \"\"\"\n",
        "    This function randomly initializes the model parameters (w and b) and the hyperparameter alpha\n",
        "    Initial w and b should be randomly sampled from a normal distribution with mean 0\n",
        "    alpha should be randomly initialized between 0.0001 and 0.001 by using last two digits of your roll number as the random seed\n",
        "    Args:\n",
        "        None\n",
        "    Returns:\n",
        "        initial_w: Initial parameters of the linear regression model (excluding the bias) of the shape (1, number of features)\n",
        "        initial_b: Initial bias parameter (scalar) of the linear regression model\n",
        "        alpha: Learning rate\n",
        "    \"\"\"\n",
        "\n",
        "    initial_w = None\n",
        "    initial_b = None\n",
        "    alpha = None\n",
        "\n",
        "    ### START CODE HERE ###\n",
        "\n",
        "    initial_w = np.random.randn(1, X.shape[1])\n",
        "    initial_b = np.random.randn()\n",
        "    alpha = np.random.uniform(0.0001, 0.001)\n",
        "\n",
        "    ### END CODE HERE ###\n",
        "\n",
        "    return initial_w, initial_b, alpha"
      ]
    },
    {
      "cell_type": "markdown",
      "metadata": {
        "id": "l7nt5VdORUEu"
      },
      "source": [
        "In the next cell, the model is trained using batch gradient descent algorithm for `num_iters=10000` iterations. You can change the number of iterations to check any improvements in the performance.\n"
      ]
    },
    {
      "cell_type": "code",
      "execution_count": 9,
      "metadata": {
        "id": "9rAYubtASozV",
        "tags": []
      },
      "outputs": [
        {
          "name": "stdout",
          "output_type": "stream",
          "text": [
            "Loss value at iteration 0: 484576.3918961058\n",
            "Loss value at iteration 100: 349142.08458963153\n",
            "Loss value at iteration 200: 255267.03109614382\n",
            "Loss value at iteration 300: 190166.110463612\n",
            "Loss value at iteration 400: 144987.9223903572\n",
            "Loss value at iteration 500: 113604.45132353398\n",
            "Loss value at iteration 600: 91773.12959598243\n",
            "Loss value at iteration 700: 76556.71897266776\n",
            "Loss value at iteration 800: 65921.68442052515\n",
            "Loss value at iteration 900: 58460.141186693596\n",
            "Loss value at iteration 1000: 53197.35385357501\n",
            "Loss value at iteration 1100: 49458.46453361117\n",
            "Loss value at iteration 1200: 46776.226440306506\n",
            "Loss value at iteration 1300: 44827.12620325833\n",
            "Loss value at iteration 1400: 43387.160210612754\n",
            "Loss value at iteration 1500: 42301.21778090059\n",
            "Loss value at iteration 1600: 41461.88458259757\n",
            "Loss value at iteration 1700: 40794.767857230545\n",
            "Loss value at iteration 1800: 40248.33680210155\n",
            "Loss value at iteration 1900: 39786.88887771276\n",
            "Loss value at iteration 2000: 39385.68024810043\n",
            "Loss value at iteration 2100: 39027.554488686714\n",
            "Loss value at iteration 2200: 38700.6085713144\n",
            "Loss value at iteration 2300: 38396.576974736105\n",
            "Loss value at iteration 2400: 38109.71296619553\n",
            "Loss value at iteration 2500: 37836.01408350124\n",
            "Loss value at iteration 2600: 37572.685913351364\n",
            "Loss value at iteration 2700: 37317.77084653384\n",
            "Loss value at iteration 2800: 37069.8910497049\n",
            "Loss value at iteration 2900: 36828.07051149444\n",
            "Loss value at iteration 3000: 36591.61183333528\n",
            "Loss value at iteration 3100: 36360.01092120092\n",
            "Loss value at iteration 3200: 36132.89791697764\n",
            "Loss value at iteration 3300: 35909.99629616279\n",
            "Loss value at iteration 3400: 35691.09454259215\n",
            "Loss value at iteration 3500: 35476.02653062466\n",
            "Loss value at iteration 3600: 35264.6579358082\n",
            "Loss value at iteration 3700: 35056.876819321384\n",
            "Loss value at iteration 3800: 34852.58710214288\n",
            "Loss value at iteration 3900: 34651.704039975986\n",
            "Loss value at iteration 4000: 34454.15108347453\n",
            "Loss value at iteration 4100: 34259.85769767725\n",
            "Loss value at iteration 4200: 34068.75784565663\n",
            "Loss value at iteration 4300: 33880.788932149444\n",
            "Loss value at iteration 4400: 33695.89106577267\n",
            "Loss value at iteration 4500: 33514.00654193075\n",
            "Loss value at iteration 4600: 33335.079478638014\n",
            "Loss value at iteration 4700: 33159.05555833053\n",
            "Loss value at iteration 4800: 32985.88184317829\n",
            "Loss value at iteration 4900: 32815.50664140145\n",
            "Loss value at iteration 5000: 32647.8794090144\n",
            "Loss value at iteration 5100: 32482.95067621127\n",
            "Loss value at iteration 5200: 32320.67199092305\n",
            "Loss value at iteration 5300: 32160.995874372464\n",
            "Loss value at iteration 5400: 32003.87578504251\n",
            "Loss value at iteration 5500: 31849.26608857522\n",
            "Loss value at iteration 5600: 31697.122031879015\n",
            "Loss value at iteration 5700: 31547.399720250727\n",
            "Loss value at iteration 5800: 31400.0560966838\n",
            "Loss value at iteration 5900: 31255.04892278676\n",
            "Loss value at iteration 6000: 31112.336760911705\n",
            "Loss value at iteration 6100: 30971.878957213434\n",
            "Loss value at iteration 6200: 30833.63562544406\n",
            "Loss value at iteration 6300: 30697.567631346203\n",
            "Loss value at iteration 6400: 30563.636577548015\n",
            "Loss value at iteration 6500: 30431.804788891568\n",
            "Loss value at iteration 6600: 30302.035298145016\n",
            "Loss value at iteration 6700: 30174.29183206301\n",
            "Loss value at iteration 6800: 30048.53879776873\n",
            "Loss value at iteration 6900: 29924.741269437676\n",
            "Loss value at iteration 7000: 29802.864975267763\n",
            "Loss value at iteration 7100: 29682.876284723425\n",
            "Loss value at iteration 7200: 29564.742196043986\n",
            "Loss value at iteration 7300: 29448.430324007444\n",
            "Loss value at iteration 7400: 29333.90888794283\n",
            "Loss value at iteration 7500: 29221.146699984296\n",
            "Loss value at iteration 7600: 29110.11315356115\n",
            "Loss value at iteration 7700: 29000.778212118435\n",
            "Loss value at iteration 7800: 28893.112398062807\n",
            "Loss value at iteration 7900: 28787.086781928778\n",
            "Loss value at iteration 8000: 28682.67297176085\n",
            "Loss value at iteration 8100: 28579.84310270677\n",
            "Loss value at iteration 8200: 28478.569826817722\n",
            "Loss value at iteration 8300: 28378.826303051093\n",
            "Loss value at iteration 8400: 28280.586187471752\n",
            "Loss value at iteration 8500: 28183.823623647724\n",
            "Loss value at iteration 8600: 28088.51323323639\n",
            "Loss value at iteration 8700: 27994.630106757308\n",
            "Loss value at iteration 8800: 27902.149794547884\n",
            "Loss value at iteration 8900: 27811.048297898247\n",
            "Loss value at iteration 9000: 27721.302060361653\n",
            "Loss value at iteration 9100: 27632.887959236916\n",
            "Loss value at iteration 9200: 27545.783297219372\n",
            "Loss value at iteration 9300: 27459.965794217038\n",
            "Loss value at iteration 9400: 27375.413579328575\n",
            "Loss value at iteration 9500: 27292.105182979853\n",
            "Loss value at iteration 9600: 27210.01952921584\n",
            "Loss value at iteration 9700: 27129.13592814484\n",
            "Loss value at iteration 9800: 27049.434068531882\n",
            "Loss value at iteration 9900: 26970.89401053833\n",
            "Updated w:  [[ 6.35136772  0.20550156 -7.3318025  16.42902246 14.35407351]]\n",
            "Updated b:  22.37442874679862\n"
          ]
        }
      ],
      "source": [
        "# initialize the parameters and hyperparameter\n",
        "initial_w, initial_b, alpha = initialize_parameters()\n",
        "\n",
        "# number of iterations\n",
        "num_iters = 10000\n",
        "\n",
        "w, b, loss_hist = batch_gradient_descent(\n",
        "    X_train, y_train, initial_w, initial_b, alpha, num_iters\n",
        ")\n",
        "print(\"Updated w: \", w)\n",
        "print(\"Updated b: \", b)"
      ]
    },
    {
      "cell_type": "markdown",
      "metadata": {
        "id": "sluek2LkSozW"
      },
      "source": [
        "### 1.5. Final Train Error and Test Error\n"
      ]
    },
    {
      "cell_type": "markdown",
      "metadata": {
        "id": "EH9oHC10fAlV"
      },
      "source": [
        "After the linear regression model is trained, we will compute the final train error and test error for the trained model.\n"
      ]
    },
    {
      "cell_type": "code",
      "execution_count": 10,
      "metadata": {
        "id": "UIXb7sSvSozW",
        "tags": []
      },
      "outputs": [
        {
          "name": "stdout",
          "output_type": "stream",
          "text": [
            "Train Error:  26894.264566300997 , Test Error:  15529.02959588526\n"
          ]
        }
      ],
      "source": [
        "## Train and Test error computation\n",
        "\n",
        "train_error = loss_function(X_train, y_train, w, b)\n",
        "test_error = loss_function(X_test, y_test, w, b)\n",
        "print(\"Train Error: \", train_error, \", Test Error: \", test_error)"
      ]
    },
    {
      "cell_type": "markdown",
      "metadata": {
        "id": "eximd12PbAgC"
      },
      "source": [
        "### 1.6. Plotting the loss function\n"
      ]
    },
    {
      "cell_type": "markdown",
      "metadata": {
        "id": "meDwLCCIfOBo"
      },
      "source": [
        "We will plot the loss function values for every training iteration. If the model is trained properly, you will see that the loss function reduces as the training progesses and it converges at some point.\n"
      ]
    },
    {
      "cell_type": "code",
      "execution_count": 11,
      "metadata": {
        "id": "DW4bue0oSozW"
      },
      "outputs": [
        {
          "data": {
            "image/png": "[encoded data removed]",
            "text/plain": [
              "<Figure size 640x480 with 1 Axes>"
            ]
          },
          "metadata": {},
          "output_type": "display_data"
        }
      ],
      "source": [
        "# PLotting the loss values for every training iterations\n",
        "\n",
        "loss_plot = [loss_hist[i] for i in range(len(loss_hist))]\n",
        "plt.xlabel(\"Iterations\")\n",
        "plt.ylabel(\"Loss function\")\n",
        "plt.plot(loss_plot)\n",
        "plt.show()"
      ]
    },
    {
      "cell_type": "markdown",
      "metadata": {
        "id": "BAVgq4HWCmDX"
      },
      "source": [
        "### 1.7 Experimenting with different values of the Hyperparemeters\n",
        "\n",
        "Previously, we randomly sampled the learning rate and the number of features to train the model. Now, you have to manually choose the number of features and the learning rate. Then, you have to train the model again on the manually choosen hyperparameters (number of features and learning rate). In the next cell, you have to manually choose the hyperparameters and write the code to train the model.\n",
        "\n",
        "After the model is trained, you have to compare the performance of the model with random chosen hyperparameters and manually chosen hyperparameters.\n"
      ]
    },
    {
      "cell_type": "code",
      "execution_count": 12,
      "metadata": {
        "id": "K2QuEbE1Clxq"
      },
      "outputs": [
        {
          "name": "stdout",
          "output_type": "stream",
          "text": [
            "Manually chosen hyperparameters: alpha: 0.005, num_iters: 22000\n",
            "Loss value at iteration 0: 422377.2798885732\n",
            "Loss value at iteration 100: 100893.39842778945\n",
            "Loss value at iteration 200: 49425.48560805473\n",
            "Loss value at iteration 300: 40145.463826881234\n",
            "Loss value at iteration 400: 37547.72460976751\n",
            "Loss value at iteration 500: 36090.52468182456\n",
            "Loss value at iteration 600: 34901.29965921155\n",
            "Loss value at iteration 700: 33835.795694463406\n",
            "Loss value at iteration 800: 32864.018325192126\n",
            "Loss value at iteration 900: 31974.489627653595\n",
            "Loss value at iteration 1000: 31159.262539638643\n",
            "Loss value at iteration 1100: 30411.523532499992\n",
            "Loss value at iteration 1200: 29725.16262814655\n",
            "Loss value at iteration 1300: 29094.655458501307\n",
            "Loss value at iteration 1400: 28514.998932580595\n",
            "Loss value at iteration 1500: 27981.65975510789\n",
            "Loss value at iteration 1600: 27490.5290027332\n",
            "Loss value at iteration 1700: 27037.88129916416\n",
            "Loss value at iteration 1800: 26620.33800143729\n",
            "Loss value at iteration 1900: 26234.833981008167\n",
            "Loss value at iteration 2000: 25878.587642254046\n",
            "Loss value at iteration 2100: 25549.073859159136\n",
            "Loss value at iteration 2200: 25243.999543012607\n",
            "Loss value at iteration 2300: 24961.281582458134\n",
            "Loss value at iteration 2400: 24699.026922850608\n",
            "Loss value at iteration 2500: 24455.514574936453\n",
            "Loss value at iteration 2600: 24229.179363640957\n",
            "Loss value at iteration 2700: 24018.597246449222\n",
            "Loss value at iteration 2800: 23822.472047712276\n",
            "Loss value at iteration 2900: 23639.623470382463\n",
            "Loss value at iteration 3000: 23468.976260348332\n",
            "Loss value at iteration 3100: 23309.55041084945\n",
            "Loss value at iteration 3200: 23160.452305540675\n",
            "Loss value at iteration 3300: 23020.86670876525\n",
            "Loss value at iteration 3400: 22890.049520595392\n",
            "Loss value at iteration 3500: 22767.321222307666\n",
            "Loss value at iteration 3600: 22652.060945265293\n",
            "Loss value at iteration 3700: 22543.701102762163\n",
            "Loss value at iteration 3800: 22441.722530314306\n",
            "Loss value at iteration 3900: 22345.650085229652\n",
            "Loss value at iteration 4000: 22255.048661103167\n",
            "Loss value at iteration 4100: 22169.519577225838\n",
            "Loss value at iteration 4200: 22088.69730680814\n",
            "Loss value at iteration 4300: 22012.24651144525\n",
            "Loss value at iteration 4400: 21939.859352430274\n",
            "Loss value at iteration 4500: 21871.253052387197\n",
            "Loss value at iteration 4600: 21806.167683279073\n",
            "Loss value at iteration 4700: 21744.364159176097\n",
            "Loss value at iteration 4800: 21685.622414268684\n",
            "Loss value at iteration 4900: 21629.739748504624\n",
            "Loss value at iteration 5000: 21576.52932493739\n",
            "Loss value at iteration 5100: 21525.81880441327\n",
            "Loss value at iteration 5200: 21477.44910461447\n",
            "Loss value at iteration 5300: 21431.273271728733\n",
            "Loss value at iteration 5400: 21387.155454147\n",
            "Loss value at iteration 5500: 21344.96996861066\n",
            "Loss value at iteration 5600: 21304.600450150898\n",
            "Loss value at iteration 5700: 21265.939077993142\n",
            "Loss value at iteration 5800: 21228.885870349768\n",
            "Loss value at iteration 5900: 21193.348041700785\n",
            "Loss value at iteration 6000: 21159.23941677356\n",
            "Loss value at iteration 6100: 21126.47989598404\n",
            "Loss value at iteration 6200: 21094.99496760028\n",
            "Loss value at iteration 6300: 21064.715262338777\n",
            "Loss value at iteration 6400: 21035.5761465108\n",
            "Loss value at iteration 6500: 21007.517350202477\n",
            "Loss value at iteration 6600: 20980.48262730451\n",
            "Loss value at iteration 6700: 20954.41944450683\n",
            "Loss value at iteration 6800: 20929.278696644353\n",
            "Loss value at iteration 6900: 20905.01444602491\n",
            "Loss value at iteration 7000: 20881.583683591667\n",
            "Loss value at iteration 7100: 20858.94610997256\n",
            "Loss value at iteration 7200: 20837.063934650167\n",
            "Loss value at iteration 7300: 20815.90169164926\n",
            "Loss value at iteration 7400: 20795.42607028733\n",
            "Loss value at iteration 7500: 20775.605759667495\n",
            "Loss value at iteration 7600: 20756.411305714373\n",
            "Loss value at iteration 7700: 20737.81497966351\n",
            "Loss value at iteration 7800: 20719.790657014288\n",
            "Loss value at iteration 7900: 20702.313706046207\n",
            "Loss value at iteration 8000: 20685.360885080394\n",
            "Loss value at iteration 8100: 20668.910247741598\n",
            "Loss value at iteration 8200: 20652.94105554337\n",
            "Loss value at iteration 8300: 20637.43369717968\n",
            "Loss value at iteration 8400: 20622.369613961295\n",
            "Loss value at iteration 8500: 20607.731230885343\n",
            "Loss value at iteration 8600: 20593.501892871638\n",
            "Loss value at iteration 8700: 20579.6658057406\n",
            "Loss value at iteration 8800: 20566.20798154502\n",
            "Loss value at iteration 8900: 20553.114187901636\n",
            "Loss value at iteration 9000: 20540.370900999456\n",
            "Loss value at iteration 9100: 20527.965261989808\n",
            "Loss value at iteration 9200: 20515.88503648831\n",
            "Loss value at iteration 9300: 20504.11857694241\n",
            "Loss value at iteration 9400: 20492.6547876389\n",
            "Loss value at iteration 9500: 20481.483092145238\n",
            "Loss value at iteration 9600: 20470.59340299561\n",
            "Loss value at iteration 9700: 20459.976093449048\n",
            "Loss value at iteration 9800: 20449.621971160697\n",
            "Loss value at iteration 9900: 20439.522253621228\n",
            "Loss value at iteration 10000: 20429.668545230827\n",
            "Loss value at iteration 10100: 20420.052815885545\n",
            "Loss value at iteration 10200: 20410.667380963532\n",
            "Loss value at iteration 10300: 20401.504882607926\n",
            "Loss value at iteration 10400: 20392.558272211587\n",
            "Loss value at iteration 10500: 20383.82079401624\n",
            "Loss value at iteration 10600: 20375.285969745768\n",
            "Loss value at iteration 10700: 20366.947584199712\n",
            "Loss value at iteration 10800: 20358.79967173877\n",
            "Loss value at iteration 10900: 20350.836503599487\n",
            "Loss value at iteration 11000: 20343.05257598026\n",
            "Loss value at iteration 11100: 20335.442598845148\n",
            "Loss value at iteration 11200: 20328.001485396067\n",
            "Loss value at iteration 11300: 20320.72434216788\n",
            "Loss value at iteration 11400: 20313.606459704137\n",
            "Loss value at iteration 11500: 20306.643303774494\n",
            "Loss value at iteration 11600: 20299.830507097708\n",
            "Loss value at iteration 11700: 20293.16386153685\n",
            "Loss value at iteration 11800: 20286.63931073568\n",
            "Loss value at iteration 11900: 20280.252943167605\n",
            "Loss value at iteration 12000: 20274.00098557048\n",
            "Loss value at iteration 12100: 20267.879796742658\n",
            "Loss value at iteration 12200: 20261.885861677274\n",
            "Loss value at iteration 12300: 20256.01578601347\n",
            "Loss value at iteration 12400: 20250.266290784777\n",
            "Loss value at iteration 12500: 20244.634207446208\n",
            "Loss value at iteration 12600: 20239.116473162914\n",
            "Loss value at iteration 12700: 20233.710126344424\n",
            "Loss value at iteration 12800: 20228.41230240961\n",
            "Loss value at iteration 12900: 20223.220229768573\n",
            "Loss value at iteration 13000: 20218.13122600834\n",
            "Loss value at iteration 13100: 20213.14269427056\n",
            "Loss value at iteration 13200: 20208.252119809702\n",
            "Loss value at iteration 13300: 20203.4570667214\n",
            "Loss value at iteration 13400: 20198.75517483103\n",
            "Loss value at iteration 13500: 20194.144156733328\n",
            "Loss value at iteration 13600: 20189.62179497453\n",
            "Loss value at iteration 13700: 20185.18593936885\n",
            "Loss value at iteration 13800: 20180.834504441937\n",
            "Loss value at iteration 13900: 20176.565466994063\n",
            "Loss value at iteration 14000: 20172.376863776575\n",
            "Loss value at iteration 14100: 20168.266789275378\n",
            "Loss value at iteration 14200: 20164.233393595518\n",
            "Loss value at iteration 14300: 20160.274880441582\n",
            "Loss value at iteration 14400: 20156.389505188657\n",
            "Loss value at iteration 14500: 20152.57557303909\n",
            "Loss value at iteration 14600: 20148.83143726047\n",
            "Loss value at iteration 14700: 20145.15549750066\n",
            "Loss value at iteration 14800: 20141.54619817581\n",
            "Loss value at iteration 14900: 20138.00202692758\n",
            "Loss value at iteration 15000: 20134.521513146094\n",
            "Loss value at iteration 15100: 20131.103226555213\n",
            "Loss value at iteration 15200: 20127.74577585701\n",
            "Loss value at iteration 15300: 20124.447807432538\n",
            "Loss value at iteration 15400: 20121.208004095948\n",
            "Loss value at iteration 15500: 20118.025083899505\n",
            "Loss value at iteration 15600: 20114.897798986894\n",
            "Loss value at iteration 15700: 20111.824934492484\n",
            "Loss value at iteration 15800: 20108.805307484356\n",
            "Loss value at iteration 15900: 20105.83776594903\n",
            "Loss value at iteration 16000: 20102.92118781579\n",
            "Loss value at iteration 16100: 20100.054480018927\n",
            "Loss value at iteration 16200: 20097.23657759593\n",
            "Loss value at iteration 16300: 20094.466442820107\n",
            "Loss value at iteration 16400: 20091.743064365965\n",
            "Loss value at iteration 16500: 20089.065456505847\n",
            "Loss value at iteration 16600: 20086.432658336507\n",
            "Loss value at iteration 16700: 20083.84373303413\n",
            "Loss value at iteration 16800: 20081.297767136617\n",
            "Loss value at iteration 16900: 20078.79386985193\n",
            "Loss value at iteration 17000: 20076.331172391274\n",
            "Loss value at iteration 17100: 20073.90882732615\n",
            "Loss value at iteration 17200: 20071.526007968096\n",
            "Loss value at iteration 17300: 20069.18190777026\n",
            "Loss value at iteration 17400: 20066.87573974986\n",
            "Loss value at iteration 17500: 20064.606735930534\n",
            "Loss value at iteration 17600: 20062.374146803922\n",
            "Loss value at iteration 17700: 20060.177240809484\n",
            "Loss value at iteration 17800: 20058.015303831995\n",
            "Loss value at iteration 17900: 20055.887638715816\n",
            "Loss value at iteration 18000: 20053.793564795385\n",
            "Loss value at iteration 18100: 20051.732417441166\n",
            "Loss value at iteration 18200: 20049.703547620575\n",
            "Loss value at iteration 18300: 20047.706321473095\n",
            "Loss value at iteration 18400: 20045.740119899223\n",
            "Loss value at iteration 18500: 20043.80433816255\n",
            "Loss value at iteration 18600: 20041.89838550456\n",
            "Loss value at iteration 18700: 20040.021684771582\n",
            "Loss value at iteration 18800: 20038.17367205351\n",
            "Loss value at iteration 18900: 20036.353796333766\n",
            "Loss value at iteration 19000: 20034.561519150135\n",
            "Loss value at iteration 19100: 20032.79631426605\n",
            "Loss value at iteration 19200: 20031.057667351924\n",
            "Loss value at iteration 19300: 20029.34507567618\n",
            "Loss value at iteration 19400: 20027.658047805613\n",
            "Loss value at iteration 19500: 20025.996103314756\n",
            "Loss value at iteration 19600: 20024.358772503874\n",
            "Loss value at iteration 19700: 20022.7455961254\n",
            "Loss value at iteration 19800: 20021.15612511836\n",
            "Loss value at iteration 19900: 20019.58992035061\n",
            "Loss value at iteration 20000: 20018.04655236858\n",
            "Loss value at iteration 20100: 20016.525601154295\n",
            "Loss value at iteration 20200: 20015.02665588929\n",
            "Loss value at iteration 20300: 20013.549314725446\n",
            "Loss value at iteration 20400: 20012.093184562193\n",
            "Loss value at iteration 20500: 20010.657880830157\n",
            "Loss value at iteration 20600: 20009.243027280776\n",
            "Loss value at iteration 20700: 20007.848255781955\n",
            "Loss value at iteration 20800: 20006.473206119284\n",
            "Loss value at iteration 20900: 20005.117525802867\n",
            "Loss value at iteration 21000: 20003.780869879432\n",
            "Loss value at iteration 21100: 20002.46290074964\n",
            "Loss value at iteration 21200: 20001.16328799034\n",
            "Loss value at iteration 21300: 19999.881708181743\n",
            "Loss value at iteration 21400: 19998.61784473918\n",
            "Loss value at iteration 21500: 19997.371387749456\n",
            "Loss value at iteration 21600: 19996.142033811615\n",
            "Loss value at iteration 21700: 19994.92948588192\n",
            "Loss value at iteration 21800: 19993.733453122964\n",
            "Loss value at iteration 21900: 19992.553650756796\n",
            "Updated w:  [[  4.79032607 -11.15085179 -23.87430748  12.68627469  19.83334274]]\n",
            "Updated b:  29.755562979731877\n",
            "Train Error:  19991.401360371605 , Test Error:  12123.104493878698\n"
          ]
        },
        {
          "data": {
            "image/png": "[encoded data removed]",
            "text/plain": [
              "<Figure size 640x480 with 1 Axes>"
            ]
          },
          "metadata": {},
          "output_type": "display_data"
        }
      ],
      "source": [
        "## CODE REQUIRED ##\n",
        "\n",
        "\"\"\"\n",
        "Manually choose the hyperparameters (learning rate and number of features) and train the model.\n",
        "Then compare the performance with random chosen hyperparameters and manually chosen hyperparameters.\n",
        "\"\"\"\n",
        "\n",
        "### START CODE HERE ###\n",
        "\n",
        "init_w_rand, init_b_rand, alpha_manual = initialize_parameters()\n",
        "alpha_manual = 0.005\n",
        "num_iters_manual = 22000\n",
        "\n",
        "print(\n",
        "    f\"Manually chosen hyperparameters: alpha: {alpha_manual}, num_iters: {num_iters_manual}\"\n",
        ")\n",
        "\n",
        "w_, b_, loss_hist_ = batch_gradient_descent(\n",
        "    X_train, y_train, init_w_rand, init_b_rand, alpha_manual, num_iters_manual\n",
        ")\n",
        "print(\"Updated w: \", w_)\n",
        "print(\"Updated b: \", b_)\n",
        "\n",
        "train_error_ = loss_function(X_train, y_train, w_, b_)\n",
        "test_error_ = loss_function(X_test, y_test, w_, b_)\n",
        "\n",
        "print(\"Train Error: \", train_error_, \", Test Error: \", test_error_)\n",
        "\n",
        "plt.xlabel(\"Iterations\")\n",
        "plt.ylabel(\"Loss function\")\n",
        "plt.plot(loss_hist_)\n",
        "plt.show()\n",
        "\n",
        "### END CODE HERE ###"
      ]
    },
    {
      "cell_type": "markdown",
      "metadata": {
        "id": "XZ0CviUnZui0"
      },
      "source": [
        "## Part 2: Logistic Regression\n",
        "\n",
        "### Problem Statement\n",
        "\n",
        "A Food grain industry requires an efficient classification system to help in sorting food grain species. You have to develop a Logistic Regression model for this purpose.\n",
        "Given various features of a rice grain such as area, perimeter, axis lengths etc. as input features, the task is to build a logistic regression model to predict the species of the food grain.\n",
        "\n",
        "### Dataset Description\n",
        "\n",
        "**For Even Roll Number Students**\n",
        "\n",
        "Dataset Filename: Rice_Classification.csv\n",
        "\n",
        "Attribute Information:\n",
        "\n",
        "- Area: Returns the number of pixels within the boundaries of the rice grain.\n",
        "- Perimeter: Calculates the circumference by calculating the distance between pixels around the boundaries of the rice grain.\n",
        "- Major Axis Length: The longest line that can be drawn on the rice grain, i.e. the main axis distance, gives.\n",
        "- Minor Axis Length: The shortest line that can be drawn on the rice grain, i.e. the small axis distance, gives.\n",
        "- Eccentricity: It measures how round the ellipse, which has the same moments as the rice grain, is.\n",
        "- Convex Area: Returns the pixel count of the smallest convex shell of the region formed by the rice grain.\n",
        "- Extent: Returns the ratio of the region formed by the rice grain to the bounding box pixels.\n",
        "\n",
        "Target Variable: Class: Cammeo and Osmancik\n",
        "\n",
        "**For Odd Roll Number Students**\n",
        "\n",
        "Dataset Filename: Pumpkin_Seeds_Dataset.csv\n",
        "\n",
        "Attribute Information:\n",
        "\n",
        "- Area: Represents the number of pixels within the boundaries of the pumpkin seed.\n",
        "\n",
        "- Perimeter: Calculates the circumference by measuring the distance between pixels around the boundary of the pumpkin seed.\n",
        "\n",
        "- Major Axis Length: The longest line that can be drawn on the pumpkin seed, representing the main axis distance.\n",
        "\n",
        "- Minor Axis Length: The shortest line that can be drawn on the pumpkin seed, representing the minor axis distance.\n",
        "\n",
        "- Convex Area: Returns the pixel count of the smallest convex shell that can contain the pumpkin seed.\n",
        "\n",
        "- Equivalent Diameter: Diameter of a circle with the same area as the pumpkin seed.\n",
        "\n",
        "- Eccentricity: This measures how round the ellipse, which has the same moments as the pumpkin seed has.\n",
        "\n",
        "- Solidity: This is the ratio of the area of the pumpkin seed to the area of its convex hull. It measures the extent to which the shape is convex.\n",
        "\n",
        "- Extent: Returns the ratio of the area of the pumpkin seed to the area of its bounding box.\n",
        "\n",
        "- Roundness: Measure of how closely the shape of the pumpkin seed approaches that of a circle.\n",
        "\n",
        "- Aspect Ratio: Ratio of the major axis length to the minor axis length.\n",
        "\n",
        "- Compactness: Measure of the shape's compactness, which is the shape's deviation from being a perfect circle. In essence, compactness quantifies how efficiently an object's area is packed within its perimeter.\n",
        "\n",
        "Target Variable: Class: Çerçevelik and Ürgüp Sivrisi\n",
        "\n",
        "These are the following steps or functions that you have to complete to create and train the linear regression model:\n",
        "\n",
        "1. Reading the data\n",
        "2. Creating the sigmoid function\n",
        "3. Computing the loss function\n",
        "4. Computing the gradient of the loss\n",
        "5. Training the model using Batch Gradient Descent\n"
      ]
    },
    {
      "cell_type": "code",
      "execution_count": 13,
      "metadata": {
        "id": "T27XOBZrRZ4M"
      },
      "outputs": [],
      "source": [
        "import numpy as np\n",
        "import pandas as pd\n",
        "import matplotlib.pyplot as plt\n",
        "from scipy.special import logsumexp\n",
        "import copy\n",
        "import math"
      ]
    },
    {
      "cell_type": "markdown",
      "metadata": {
        "id": "G3luUk4L0WO_"
      },
      "source": [
        "### 2.1. Reading the data\n",
        "\n",
        "In the function `load_data`, you have to read data from the file, store it in a dataframe and split the data from the dataframe into two numpy arrays X and y.\n",
        "\n",
        "**X** : data of the input features\n",
        "\n",
        "**y** : data of the class labels\n",
        "\n",
        "The class labels in **y** should be replaced with '0' and '1', for corresponding classes.\n"
      ]
    },
    {
      "cell_type": "code",
      "execution_count": 14,
      "metadata": {
        "id": "7-RV0JgEZi1h"
      },
      "outputs": [
        {
          "name": "stdout",
          "output_type": "stream",
          "text": [
            "Shape of X:  (3810, 7) Shape of y:  (3810,)\n"
          ]
        }
      ],
      "source": [
        "## CODE REQUIRED ##\n",
        "\n",
        "\n",
        "def load_data(filepath):\n",
        "    \"\"\"\n",
        "    This function loads the data into a pandas dataframe and converts it into X and y numpy arrays\n",
        "    y should be a binary numpy array with values 0 and 1, for 2 different classes\n",
        "    Args:\n",
        "        filepath: File path as a string\n",
        "    Returns:\n",
        "        X: Input data of the shape (# of samples, # of input features)\n",
        "        y: Target variable of the shape (# of sample,) with values 0 and 1, for 2 different classes\n",
        "    \"\"\"\n",
        "\n",
        "    ### START CODE HERE ###\n",
        "\n",
        "    # Load the data into a pandas dataframe\n",
        "    data = pd.read_csv(filepath)\n",
        "    # Convert the data into numpy arrays\n",
        "    X = np.array(data.iloc[:, :-1])\n",
        "    y = np.array(data.iloc[:, -1])\n",
        "    # Convert the target variable into a binary numpy array\n",
        "    y = np.where(y == y[0], 0, 1)\n",
        "\n",
        "    ### END CODE HERE ###\n",
        "\n",
        "    return X, y\n",
        "\n",
        "\n",
        "filepath = None\n",
        "### START CODE HERE ###\n",
        "## set the file path\n",
        "filepath = \"./Rice_Classification.csv\"\n",
        "### END CODE HERE ###\n",
        "\n",
        "X, y = load_data(filepath)\n",
        "\n",
        "print(\"Shape of X: \", X.shape, \"Shape of y: \", y.shape)"
      ]
    },
    {
      "cell_type": "markdown",
      "metadata": {
        "id": "sLGPG1YU-C47"
      },
      "source": [
        "We will not use all the features from X.\n",
        "\n",
        "For Even Roll Number Students: Set the last two digits of your roll number as the random seed and pick a number r between 4 and 7 (both inclusive) randomly. Use the first r features of the numpy array X.\n",
        "\n",
        "For Odd Roll Number Students: Set the last two digits of your roll number as the random seed and pick a number r between 8 and 12 (both inclusive) randomly. Use the first r features of the numpy array X.\n"
      ]
    },
    {
      "cell_type": "code",
      "execution_count": 15,
      "metadata": {
        "id": "JNsDb2Ae94s6"
      },
      "outputs": [
        {
          "name": "stdout",
          "output_type": "stream",
          "text": [
            "Shape of X:  (3810, 6) Shape of y:  (3810,)\n"
          ]
        }
      ],
      "source": [
        "## CODE REQUIRED ##\n",
        "\n",
        "\n",
        "def random_feature_selection(X):\n",
        "    \"\"\"\n",
        "\n",
        "    Args:\n",
        "        X: Input data of the shape (# of samples, # of input features)\n",
        "    Returns:\n",
        "        X_new: New input data of the shape (# of samples, r) containg only the first r features from X\n",
        "    \"\"\"\n",
        "\n",
        "    X_new = None\n",
        "\n",
        "    ### START CODE HERE ###\n",
        "\n",
        "    random.seed(30)\n",
        "    r = random.randint(4, 7)\n",
        "    X_new = X[:, :r]\n",
        "\n",
        "    ### END CODE HERE ###\n",
        "\n",
        "    return X_new\n",
        "\n",
        "\n",
        "X = random_feature_selection(X)\n",
        "print(\"Shape of X: \", X.shape, \"Shape of y: \", y.shape)"
      ]
    },
    {
      "cell_type": "markdown",
      "metadata": {
        "id": "t4u-qBe34wC9"
      },
      "source": [
        "We need to pre-process the data. We are using min-max scaler to scale the input data ($X$).\n",
        "\n",
        "After that, we split the data (`X` and `y`) into a training dataset (`X_train` and `y_train`) and test dataset (`X_test` and `y_test`)\n"
      ]
    },
    {
      "cell_type": "code",
      "execution_count": 16,
      "metadata": {
        "id": "YTO4etePa0i1"
      },
      "outputs": [
        {
          "name": "stdout",
          "output_type": "stream",
          "text": [
            "Shape of X_train:  (2857, 6) Shape of y_train:  (2857,)\n",
            "Shape of X_test:  (953, 6) Shape of y_test:  (953,)\n"
          ]
        }
      ],
      "source": [
        "## Data scaling and train-test split\n",
        "\n",
        "\n",
        "def train_test_split(X, y, test_size=0.25, random_state=None):\n",
        "    if random_state is not None:\n",
        "        np.random.seed(random_state)\n",
        "    indices = np.arange(X.shape[0])\n",
        "    np.random.shuffle(indices)\n",
        "\n",
        "    split_index = int(X.shape[0] * (1 - test_size))\n",
        "\n",
        "    train_indices = indices[:split_index]\n",
        "    test_indices = indices[split_index:]\n",
        "\n",
        "    X_train = X[train_indices]\n",
        "    X_test = X[test_indices]\n",
        "    y_train = y[train_indices]\n",
        "    y_test = y[test_indices]\n",
        "\n",
        "    return X_train, X_test, y_train, y_test\n",
        "\n",
        "\n",
        "def min_max_scaler(X, feature_range=(0, 1)):\n",
        "    X_min = np.min(X, axis=0)\n",
        "    X_max = np.max(X, axis=0)\n",
        "\n",
        "    X_scaled = (X - X_min) / (X_max - X_min)\n",
        "\n",
        "    return X_scaled\n",
        "\n",
        "\n",
        "# Feature normalization\n",
        "X = min_max_scaler(X)\n",
        "X_train, X_test, y_train, y_test = train_test_split(\n",
        "    X, y, test_size=0.25, random_state=42\n",
        ")\n",
        "print(\"Shape of X_train: \", X_train.shape, \"Shape of y_train: \", y_train.shape)\n",
        "print(\"Shape of X_test: \", X_test.shape, \"Shape of y_test: \", y_test.shape)"
      ]
    },
    {
      "cell_type": "markdown",
      "metadata": {
        "id": "K8SbmjD945Ra"
      },
      "source": [
        "### 2.2. Creating the Sigmoid Function\n",
        "\n",
        "Recall that for logistic regression, the model is represented as\n",
        "\n",
        "$$ f\\_{\\mathbf{w},b}(x) = g(\\mathbf{w}\\cdot \\mathbf{x} + b)$$\n",
        "where function $g$ is the sigmoid function. The sigmoid function is defined as:\n",
        "\n",
        "$$g(z) = \\frac{1}{1+e^{-z}}$$\n",
        "\n",
        "The function below returns the value of the sigmoid function for an input numpy array z. If the numpy array 'z' stores multiple numbers, we'd like to apply the sigmoid function to each value in the input array\n"
      ]
    },
    {
      "cell_type": "code",
      "execution_count": 17,
      "metadata": {
        "id": "G44B1vITbBpE"
      },
      "outputs": [],
      "source": [
        "## CODE REQUIRED ##\n",
        "\n",
        "\n",
        "def sigmoid(z):\n",
        "    \"\"\"\n",
        "    Compute the sigmoid of z\n",
        "\n",
        "    Args:\n",
        "        z: A scalar or numpy array of any size.\n",
        "\n",
        "    Returns:\n",
        "        g: sigmoid(z)\n",
        "    \"\"\"\n",
        "    g = None\n",
        "    z = z.astype(float)\n",
        "    ### START CODE HERE ###\n",
        "\n",
        "    g = 1 / (1 + np.exp(-z))\n",
        "\n",
        "    ### END SOLUTION ###\n",
        "\n",
        "    return g"
      ]
    },
    {
      "cell_type": "markdown",
      "metadata": {
        "id": "kV-Ygf1R8HMl"
      },
      "source": [
        "### 2.3. Computing the loss Function\n",
        "\n",
        "Recall that for logistic regression, the cost function is of the form\n",
        "\n",
        "$$ J(\\mathbf{w},b) = \\frac{1}{m}\\sum*{i=0}^{m-1} \\left[ loss(f*{\\mathbf{w},b}(\\mathbf{x}^{(i)}), y^{(i)}) \\right] \\tag{1}$$\n",
        "\n",
        "where\n",
        "\n",
        "- m is the number of training examples in the dataset\n",
        "\n",
        "- $loss(f_{\\mathbf{w},b}(\\mathbf{x}^{(i)}), y^{(i)})$ is the cost for a single data point, which is -\n",
        "\n",
        "  $$loss(f_{\\mathbf{w},b}(\\mathbf{x}^{(i)}), y^{(i)}) = (-y^{(i)} \\log\\left(f_{\\mathbf{w},b}\\left( \\mathbf{x}^{(i)} \\right) \\right) - \\left( 1 - y^{(i)}\\right) \\log \\left( 1 - f_{\\mathbf{w},b}\\left( \\mathbf{x}^{(i)} \\right) \\right) \\tag{2}$$\n",
        "\n",
        "- $f_{\\mathbf{w},b}(\\mathbf{x}^{(i)})$ is the model's prediction, while $y^{(i)}$, which is the actual label\n",
        "\n",
        "- $f_{\\mathbf{w},b}(\\mathbf{x}^{(i)}) = g(\\mathbf{w} \\cdot \\mathbf{x^{(i)}} + b)$ where function $g$ is the sigmoid function.\n",
        "\n",
        "Please complete the function loss_function that takes\n",
        "\n",
        "**X** (input features)\n",
        "\n",
        "**y** (class labels)\n",
        "\n",
        "**w** (Parameters of the logistic regression model, (excluding the bias), a numpy array of the shape(1, number of features))\n",
        "\n",
        "**b** (Bias value of the logistic regression model)\n",
        "\n",
        "You can use the Sigmoid function that you implemented above.\n"
      ]
    },
    {
      "cell_type": "code",
      "execution_count": 18,
      "metadata": {
        "id": "h9RVguhHbEVk"
      },
      "outputs": [],
      "source": [
        "## CODE REQUIRED ##\n",
        "\n",
        "\n",
        "def loss_function(X, y, w, b):\n",
        "    \"\"\"\n",
        "    Computes the loss function for all the training examples\n",
        "    Args:\n",
        "           X: Input data of the shape (# of training samples, # of input features)\n",
        "           y: Target variable of the shape (# of training sample,)\n",
        "           w: Parameters of the logistic regression model (excluding the bias) of the shape (1, number of features)\n",
        "           b: Bias parameter (scalar) of the logistic regression model\n",
        "\n",
        "     Returns:\n",
        "           total_cost: The loss function value of using w and b as the parameters to fit the data points in X and y\n",
        "\n",
        "    \"\"\"\n",
        "    m, n = X.shape\n",
        "\n",
        "    total_cost = 0\n",
        "    ### START CODE HERE ###\n",
        "\n",
        "    fwb = sigmoid(np.dot(X, w.T) + b)\n",
        "    fwb = fwb.flatten()\n",
        "    total_cost = -np.sum(y * np.log(fwb) + (1 - y) * np.log(1 - fwb)) / m\n",
        "\n",
        "    ### END CODE HERE ###\n",
        "\n",
        "    return total_cost"
      ]
    },
    {
      "cell_type": "markdown",
      "metadata": {
        "id": "S9YmUPnsASYE"
      },
      "source": [
        "### 2.4. Computing the Gradient of the Loss\n",
        "\n",
        "Recall that the gradient descent algorithm is:\n",
        "\n",
        "$$\\begin{align*}& \\text{repeat until convergence:} \\; \\lbrace \\newline \\; & b := b -  \\alpha \\frac{\\partial J(\\mathbf{w},b)}{\\partial b} \\newline       \\; & w_j := w_j -  \\alpha \\frac{\\partial J(\\mathbf{w},b)}{\\partial w_j} \\tag{1}  \\; & \\text{for j := 0..n-1}\\newline & \\rbrace\\end{align*}$$\n",
        "\n",
        "where, parameters $b$, $w_j$ are all updated simultaniously\n",
        "\n",
        "In this step, you are required to complete the `compute_gradient_logistic_regression` function to compute $\\frac{\\partial J(\\mathbf{w},b)}{\\partial w}$, $\\frac{\\partial J(\\mathbf{w},b)}{\\partial b}$ from equations (2) and (3) below.\n",
        "\n",
        "$$\n",
        "\\frac{\\partial J(\\mathbf{w},b)}{\\partial b}  = \\frac{1}{m} \\sum\\limits_{i = 0}^{m-1} (f_{\\mathbf{w},b}(\\mathbf{x}^{(i)}) - \\mathbf{y}^{(i)}) \\tag{2}\n",
        "$$\n",
        "\n",
        "$$\n",
        "\\frac{\\partial J(\\mathbf{w},b)}{\\partial w_j}  = \\frac{1}{m} \\sum\\limits_{i = 0}^{m-1} (f_{\\mathbf{w},b}(\\mathbf{x}^{(i)}) - \\mathbf{y}^{(i)})x_{j}^{(i)} \\tag{3}\n",
        "$$\n",
        "\n",
        "- m is the number of training examples in the dataset\n",
        "- $f_{\\mathbf{w},b}(x^{(i)})$ is the model's prediction, while $y^{(i)}$ is the actual label\n",
        "\n",
        "You can use the sigmoid function that you implemented above.\n"
      ]
    },
    {
      "cell_type": "code",
      "execution_count": 19,
      "metadata": {
        "id": "PWxbewKkbIB8"
      },
      "outputs": [],
      "source": [
        "## CODE REQUIRED ##\n",
        "\n",
        "\n",
        "def compute_gradient_logistic_regression(X, y, w, b):\n",
        "    \"\"\"\n",
        "    Computes the gradient values of the loss function\n",
        "    Args:\n",
        "       X: Input data of the shape (# of training samples, # of input features)\n",
        "       y: Target variable of the shape (# of training sample,)\n",
        "       w: Parameters of the logistic regression model (excluding the bias) of the shape (1, number of features)\n",
        "       b: Bias parameter of the logistic regression model of the shape (1,1) or a scaler\n",
        "    Returns:\n",
        "       dj_dw : The gradient of the cost w.r.t. the parameters w with shape same as w\n",
        "       dj_db : The gradient of the cost w.r.t. the parameter b with shape same as b\n",
        "    \"\"\"\n",
        "    m, n = X.shape\n",
        "    dj_dw = np.zeros(w.shape)\n",
        "    dj_db = 0\n",
        "\n",
        "    ### START CODE HERE ###\n",
        "\n",
        "    fwb = sigmoid(np.dot(X, w.T) + b)\n",
        "    fwb = fwb.flatten()\n",
        "\n",
        "    dj_dw = (np.dot(X.T, (fwb - y))).T / m\n",
        "    dj_db = np.sum(fwb - y) / m\n",
        "    ### END CODE HERE ###\n",
        "\n",
        "    return dj_db, dj_dw"
      ]
    },
    {
      "cell_type": "markdown",
      "metadata": {
        "id": "6ZMYX655MRFX"
      },
      "source": [
        "### 2.5. Training the model using Batch Gradient Descent\n",
        "\n",
        "Please complete the batch gradient descent algorithm for logistic regression to train and learn the parameters of the logistic regression model. You have to use `loss_function` and `compute_gradient_logistic regression` functions that you have implemented earlier in this assignment.\n",
        "\n",
        "In this `batch_gradient_descent_logistic_regression` function, you have to compute the gradient for the training samples and update the parameters $w$ and $b$ in every iteration:\n",
        "\n",
        "- $w \\leftarrow w - \\alpha \\frac{\\partial L}{\\partial w}$\n",
        "\n",
        "- $b \\leftarrow b - \\alpha \\frac{\\partial L}{\\partial b}$\n",
        "\n",
        "This function takes `X` (input features), `y` (class labels), `w_in` (intial values of parameters(excluding bias)), `b_in` (initial value for bias), `num_iters` (number of iterations of training) as input.\n",
        "\n",
        "Additionally, you have compute the loss function values in every iteration and store it in the list variable `loss_hist` and print the loss value after every 100 iterations during the training process.\n"
      ]
    },
    {
      "cell_type": "code",
      "execution_count": 20,
      "metadata": {
        "id": "JOi07RVNbL_7"
      },
      "outputs": [],
      "source": [
        "## CODE REQUIRED ##\n",
        "\n",
        "\n",
        "def batch_gradient_descent_logistic_regression(X, y, w_in, b_in, alpha, num_iters):\n",
        "    \"\"\"\n",
        "    Batch gradient descent to learn the parameters (w and b) of the linear regression model and to print loss values\n",
        "    every 100 iterations\n",
        "\n",
        "    Args:\n",
        "        X: Input data of the shape (# of training samples, # of input features)\n",
        "        y: Target variable of the shape (# of training sample,)\n",
        "        w_in: Initial parameters of the logistic regression model (excluding the bias) of the shape (1, number of features)\n",
        "        b_in: Initial bias parameter (scalar) of the logistic regression model\n",
        "        alpha: Learning rate\n",
        "        num_iters: number of iterations\n",
        "    Returns\n",
        "        w: Updated values of parameters of the model after training\n",
        "        b: Updated bias of the model after training\n",
        "        loss_hist: List of loss values for every iteration\n",
        "    \"\"\"\n",
        "\n",
        "    # number of training examples\n",
        "    m = len(X)\n",
        "\n",
        "    # list to store the loss values for every iterations\n",
        "    loss_hist = []\n",
        "\n",
        "    ### START CODE HERE ###\n",
        "\n",
        "    # Initialize parameters\n",
        "    w_in = copy.deepcopy(\n",
        "        w_in\n",
        "    )  ## deepcopy is used so that the updates do not change the initial variable values\n",
        "    b_in = b_in\n",
        "\n",
        "    for i in range(num_iters):\n",
        "        dj_db, dj_dw = compute_gradient_logistic_regression(X, y, w_in, b_in)\n",
        "        w_in = w_in - alpha * dj_dw\n",
        "        b_in = b_in - alpha * dj_db\n",
        "        loss = loss_function(X, y, w_in, b_in)\n",
        "        loss_hist.append(loss)\n",
        "        if i % 100 == 0:\n",
        "            print(f\"Loss value at iteration {i}: {loss}\")\n",
        "\n",
        "    ### END CODE HERE ###\n",
        "\n",
        "    return w_in, b_in, loss_hist"
      ]
    },
    {
      "cell_type": "markdown",
      "metadata": {
        "id": "3yeLdzT9-5Wc"
      },
      "source": [
        "Now you have to intialize the model parameters ($w$ and $b$) and learning rate (`alpha`). The learning rate `alpha` has to be randomly initialized between 0.01 and 0.09. To randomly initialize the learning rate, you have to first set the last two digits of your roll number as the random seed using `random.seed()` function.\n"
      ]
    },
    {
      "cell_type": "code",
      "execution_count": 21,
      "metadata": {
        "id": "MIBltyJh-Tjk"
      },
      "outputs": [],
      "source": [
        "## CODE REQUIRED ##\n",
        "\n",
        "## set the last two digits of your roll number as the random seed\n",
        "random_seed = None\n",
        "### START CODE HERE ###\n",
        "random_seed = 30\n",
        "### END CODE HERE ###\n",
        "np.random.seed(random_seed)\n",
        "\n",
        "\n",
        "def initialize_parameters():\n",
        "    \"\"\"\n",
        "    This function randomly initializes the model parameters (w and b) and the hyperparameter alpha\n",
        "    Initial w and b should be randomly sampled from a normal distribution with mean 0\n",
        "    alpha should be randomly initialized between 0.01 and 0.09 by using last two digits of your roll number as the random seed\n",
        "    Args:\n",
        "        None\n",
        "    Returns:\n",
        "        initial_w: Initial parameters of the linear regression model (excluding the bias) of the shape (1, number of features)\n",
        "        initial_b: Initial bias parameter (scalar) of the linear regression model\n",
        "        alpha: Learning rate\n",
        "    \"\"\"\n",
        "\n",
        "    initial_w = None\n",
        "    initial_b = None\n",
        "    alpha = None\n",
        "\n",
        "    ### START CODE HERE ###\n",
        "\n",
        "    initial_w = np.random.randn(1, X.shape[1])\n",
        "    initial_b = np.random.randn()\n",
        "    alpha = np.random.uniform(0.01, 0.09)\n",
        "\n",
        "    ### END CODE HERE ###\n",
        "\n",
        "    return initial_w, initial_b, alpha"
      ]
    },
    {
      "cell_type": "markdown",
      "metadata": {
        "id": "KT5CbQ8dZS_J"
      },
      "source": [
        "The following cell runs the batch gradient algorithm for\n",
        "`num_iterations=1000` to train the logistic regression model. You can change the number of iterations to check any improvements in the performance\n"
      ]
    },
    {
      "cell_type": "code",
      "execution_count": 22,
      "metadata": {
        "id": "KFTZi7pkbOdp"
      },
      "outputs": [
        {
          "name": "stdout",
          "output_type": "stream",
          "text": [
            "Loss value at iteration 0: 1.0973982593777176\n",
            "Loss value at iteration 100: 0.7966416662454331\n",
            "Loss value at iteration 200: 0.7490661025056307\n",
            "Loss value at iteration 300: 0.7239529822157184\n",
            "Loss value at iteration 400: 0.7015691695756217\n",
            "Loss value at iteration 500: 0.6806050584646061\n",
            "Loss value at iteration 600: 0.6609054933639612\n",
            "Loss value at iteration 700: 0.6423875010444274\n",
            "Loss value at iteration 800: 0.624974909403224\n",
            "Loss value at iteration 900: 0.6085948845139536\n",
            "optimized parameter values w: [[-1.56775     0.94422849 -1.63303425  1.05838674  0.43421404 -0.01934862]]\n",
            "optimized parameter value b: 0.18989494581551575\n"
          ]
        }
      ],
      "source": [
        "# initialize the parameters (w and b) randomly\n",
        "initial_w, initial_b, alpha = initialize_parameters()\n",
        "num_iterations = 1000\n",
        "\n",
        "w, b, loss_hist = batch_gradient_descent_logistic_regression(\n",
        "    X_train, y_train, initial_w, initial_b, alpha, num_iterations\n",
        ")\n",
        "print(\"optimized parameter values w:\", w)\n",
        "print(\"optimized parameter value b:\", b)"
      ]
    },
    {
      "cell_type": "markdown",
      "metadata": {
        "id": "pYP0-YUyY50x"
      },
      "source": [
        "### 2.6. Final Train and Test Accuracy\n",
        "\n",
        "After the logistic regression model is trained, we will predict the class labels for the training set and test set and we will compute the accuracy.\n",
        "\n",
        "Please complete the `predict` function to produce `1` or `0` predictions given a dataset and a learned parameter vector $w$ and $b$.\n",
        "\n",
        "- First you need to compute the prediction from the model $f(x^{(i)}) = g(w \\cdot x^{(i)} + b)$ for every example\n",
        "\n",
        "- We interpret the output of the model ($f(x^{(i)})$) as the probability that $y^{(i)}=1$ given $x^{(i)}$ and parameterized by $w$.\n",
        "- Therefore, to get a final prediction ($y^{(i)}=0$ or $y^{(i)}=1$) from the logistic regression model, you can use the following heuristic -\n",
        "\n",
        "  if $f(x^{(i)}) >= 0.5$, predict $y^{(i)}=1$\n",
        "\n",
        "  if $f(x^{(i)}) < 0.5$, predict $y^{(i)}=0$\n"
      ]
    },
    {
      "cell_type": "code",
      "execution_count": 23,
      "metadata": {
        "id": "mZDUV2iwbQ_R"
      },
      "outputs": [],
      "source": [
        "def predict(X, w, b):\n",
        "    \"\"\"\n",
        "    Predict whether the label is 0 or 1 using learned logistic regression parameters (w,b)\n",
        "\n",
        "    Args:\n",
        "      X: Input data of shape (number of sample, number of features)\n",
        "      w: Parameters of the logistic regression model (excluding the bias) of the shape (1, number of features)\n",
        "      b: Bias parameter of the logistic regression model\n",
        "\n",
        "    Returns:\n",
        "      p: Predictions for X using a threshold at 0.5\n",
        "    \"\"\"\n",
        "    m, n = X.shape\n",
        "    p = np.zeros(m)\n",
        "    ### START CODE HERE###\n",
        "\n",
        "    fx = sigmoid(np.dot(X, w.T) + b)\n",
        "    fx = fx.flatten()\n",
        "    p = np.where(fx >= 0.5, 1, 0)\n",
        "\n",
        "    ### END CODE HERE ###\n",
        "    return p"
      ]
    },
    {
      "cell_type": "markdown",
      "metadata": {
        "id": "zsrATkIy2KVy"
      },
      "source": [
        "Now let's use this to compute the accuracy on the training and test datasets\n"
      ]
    },
    {
      "cell_type": "code",
      "execution_count": 24,
      "metadata": {
        "id": "UMmh6WdFbU9Y"
      },
      "outputs": [
        {
          "name": "stdout",
          "output_type": "stream",
          "text": [
            "Train Accuracy: 91.914596\n",
            "Test Accuracy: 90.975866\n"
          ]
        }
      ],
      "source": [
        "p_train = predict(X_train, w, b)\n",
        "print(\"Train Accuracy: %f\" % (np.mean(p_train == y_train) * 100))\n",
        "p_test = predict(X_test, w, b)\n",
        "print(\"Test Accuracy: %f\" % (np.mean(p_test == y_test) * 100))"
      ]
    },
    {
      "cell_type": "markdown",
      "metadata": {
        "id": "B0VqjFy9ZK7D"
      },
      "source": [
        "Now, we plot the loss function values for every iteration.\n"
      ]
    },
    {
      "cell_type": "code",
      "execution_count": 25,
      "metadata": {
        "id": "fkmP3XHMTW74"
      },
      "outputs": [
        {
          "data": {
            "image/png": "[encoded data removed]",
            "text/plain": [
              "<Figure size 640x480 with 1 Axes>"
            ]
          },
          "metadata": {},
          "output_type": "display_data"
        }
      ],
      "source": [
        "# PLotting the loss values for every training iterations\n",
        "\n",
        "loss_plot = [loss_hist[i] for i in range(len(loss_hist))]\n",
        "plt.xlabel(\"Iterations\")\n",
        "plt.ylabel(\"Loss function\")\n",
        "plt.plot(loss_plot)\n",
        "plt.show()"
      ]
    },
    {
      "cell_type": "markdown",
      "metadata": {
        "id": "JgKAU9RBEUlL"
      },
      "source": [
        "### 2.7 Experimenting with different values of the Hyperparemeters\n",
        "\n",
        "Previously, we randomly sampled the learning rate and the number of features to train the model. Now, you have to manually choose the number of features and the learning rate. Then, you have to train the model again on the manually choosen hyperparameters (number of features and learning rate). In the next cell, you have to manually choose the hyperparameters and write the code to train the model.\n",
        "\n",
        "After the model is trained, you have to compare the performance of the model with random chosen hyperparameters and the model **with** manually chosen hyperparameters.\n"
      ]
    },
    {
      "cell_type": "code",
      "execution_count": 26,
      "metadata": {
        "id": "xMcc3cuvIbD_"
      },
      "outputs": [
        {
          "name": "stdout",
          "output_type": "stream",
          "text": [
            "Manually chosen hyperparameters: alpha: 0.05, num_iters: 1400\n",
            "Loss value at iteration 0: 2.0066997392757826\n",
            "Loss value at iteration 100: 0.8466883164452771\n",
            "Loss value at iteration 200: 0.7711709409623118\n",
            "Loss value at iteration 300: 0.7127742670160648\n",
            "Loss value at iteration 400: 0.662402356035206\n",
            "Loss value at iteration 500: 0.6189697071945315\n",
            "Loss value at iteration 600: 0.5814645933849046\n",
            "Loss value at iteration 700: 0.548978365451113\n",
            "Loss value at iteration 800: 0.5207216925609155\n",
            "Loss value at iteration 900: 0.49602414864577854\n",
            "Loss value at iteration 1000: 0.474324411710631\n",
            "Loss value at iteration 1100: 0.4551564032284736\n",
            "Loss value at iteration 1200: 0.4381346558188284\n",
            "Loss value at iteration 1300: 0.4229406442632226\n",
            "Train Accuracy: 93.174659\n",
            "Test Accuracy: 92.235047\n"
          ]
        },
        {
          "data": {
            "image/png": "[encoded data removed]",
            "text/plain": [
              "<Figure size 640x480 with 1 Axes>"
            ]
          },
          "metadata": {},
          "output_type": "display_data"
        }
      ],
      "source": [
        "## CODE REQUIRED ##\n",
        "\n",
        "\"\"\"\n",
        "Manually choose the hyperparameters (learning rate and number of features) and train the model.\n",
        "Then compare the performance with random chosen hyperparameters and manually chosen hyperparameters.\n",
        "\"\"\"\n",
        "\n",
        "### START CODE HERE ###\n",
        "\n",
        "init_w_rand, init_b_rand, alpha_manual = initialize_parameters()\n",
        "alpha_manual = 0.05\n",
        "num_iters_manual = 1400\n",
        "\n",
        "print(\n",
        "    f\"Manually chosen hyperparameters: alpha: {alpha_manual}, num_iters: {num_iters_manual}\"\n",
        ")\n",
        "\n",
        "w_, b_, loss_hist_ = batch_gradient_descent_logistic_regression(\n",
        "    X_train, y_train, init_w_rand, init_b_rand, alpha_manual, num_iters_manual\n",
        ")\n",
        "\n",
        "p_train_ = predict(X_train, w_, b_)\n",
        "print(\"Train Accuracy: %f\" % (np.mean(p_train_ == y_train) * 100))\n",
        "p_test_ = predict(X_test, w_, b_)\n",
        "print(\"Test Accuracy: %f\" % (np.mean(p_test_ == y_test) * 100))\n",
        "\n",
        "plt.xlabel(\"Iterations\")\n",
        "plt.ylabel(\"Loss function\")\n",
        "plt.plot(loss_hist_)\n",
        "plt.show()\n",
        "\n",
        "### END CODE HERE ###"
      ]
    }
  ],
  "metadata": {
    "colab": {
      "provenance": []
    },
    "kernelspec": {
      "display_name": "Python 3 (ipykernel)",
      "language": "python",
      "name": "python3"
    },
    "language_info": {
      "codemirror_mode": {
        "name": "ipython",
        "version": 3
      },
      "file_extension": ".py",
      "mimetype": "text/x-python",
      "name": "python",
      "nbconvert_exporter": "python",
      "pygments_lexer": "ipython3",
      "version": "3.12.4"
    }
  },
  "nbformat": 4,
  "nbformat_minor": 0
}
